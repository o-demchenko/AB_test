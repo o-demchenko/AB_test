{
 "cells": [
  {
   "cell_type": "markdown",
   "metadata": {},
   "source": [
    "### Проект: вариант 4\n",
    "\n",
    "### Задание 1\n",
    "   Представьте, что вы аналитик в компании, которая разрабатывает приложение для обработки и оформления фотографий в формате Stories (например, для дальнейшего экспорта в Instagram Stories). \n",
    "   Был проведен A/B тест: тестовой группе предлагалась новая модель оплаты коллекций шаблонов, контрольной – старая механика. \n",
    "\n",
    "#### Ваша основная задача: проанализировать итоги эксперимента и решить, нужно ли выкатывать новую модель на остальных пользователей.\n",
    "\n",
    "В ходе отчета обоснуйте выбор метрик, на которые вы обращаете внимание. Если различия есть, то объясните, с чем они могут быть связаны и являются ли значимыми.\n",
    "\n",
    "### Задание 2\n",
    "Одной из основных задач аналитика является не только построение моделей, но и создание дашбордов, которые позволяют отслеживать изменения метрик и принимать на их основе оптимальные решения. Ваш руководитель хочет узнать, как обстоят дела с использованием приложения и вовлечённостью пользователей, и очень просит спроектировать ему дашборд."
   ]
  },
  {
   "cell_type": "markdown",
   "metadata": {},
   "source": [
    "# Задание 1"
   ]
  },
  {
   "cell_type": "code",
   "execution_count": 1,
   "metadata": {},
   "outputs": [],
   "source": [
    "import pandas as pd\n",
    "import seaborn as sns\n",
    "import numpy as np\n",
    "import scipy.stats as stats\n",
    "from scipy.stats import norm, mannwhitneyu\n",
    "import matplotlib.pyplot as plt\n",
    "from tqdm.auto import tqdm\n",
    "\n",
    "plt.style.use('ggplot')"
   ]
  },
  {
   "cell_type": "code",
   "execution_count": 2,
   "metadata": {},
   "outputs": [],
   "source": [
    "active_users = pd.read_csv('/mnt/HC_Volume_18315164/home-jupyter/jupyter-o-demchenko-18/Final_Project/Проект_4_active_users.csv')"
   ]
  },
  {
   "cell_type": "code",
   "execution_count": 3,
   "metadata": {},
   "outputs": [],
   "source": [
    "groups = pd.read_csv('/mnt/HC_Volume_18315164/home-jupyter/jupyter-o-demchenko-18/Final_Project/Проект_4_groups.csv')"
   ]
  },
  {
   "cell_type": "code",
   "execution_count": 4,
   "metadata": {},
   "outputs": [],
   "source": [
    "purchases = pd.read_csv('/mnt/HC_Volume_18315164/home-jupyter/jupyter-o-demchenko-18/Final_Project/Проект_4_purchases.csv')"
   ]
  },
  {
   "cell_type": "code",
   "execution_count": 5,
   "metadata": {},
   "outputs": [],
   "source": [
    "# Проверим df на наличие пропущенных значений"
   ]
  },
  {
   "cell_type": "code",
   "execution_count": 6,
   "metadata": {},
   "outputs": [
    {
     "data": {
      "text/plain": [
       "user_id     0\n",
       "country     0\n",
       "platform    0\n",
       "sex         0\n",
       "dtype: int64"
      ]
     },
     "execution_count": 6,
     "metadata": {},
     "output_type": "execute_result"
    }
   ],
   "source": [
    "active_users.isna().sum()"
   ]
  },
  {
   "cell_type": "code",
   "execution_count": 7,
   "metadata": {},
   "outputs": [
    {
     "data": {
      "text/plain": [
       "user_id    0\n",
       "revenue    0\n",
       "dtype: int64"
      ]
     },
     "execution_count": 7,
     "metadata": {},
     "output_type": "execute_result"
    }
   ],
   "source": [
    "purchases.isna().sum()"
   ]
  },
  {
   "cell_type": "code",
   "execution_count": 8,
   "metadata": {},
   "outputs": [
    {
     "data": {
      "text/plain": [
       "user_id    0\n",
       "group      0\n",
       "dtype: int64"
      ]
     },
     "execution_count": 8,
     "metadata": {},
     "output_type": "execute_result"
    }
   ],
   "source": [
    "groups.isna().sum()"
   ]
  },
  {
   "cell_type": "code",
   "execution_count": 9,
   "metadata": {},
   "outputs": [],
   "source": [
    "# Пропущенных значений в датафреймах нет. Теперь посмотрим на соотношения уникальных пользователей"
   ]
  },
  {
   "cell_type": "code",
   "execution_count": 10,
   "metadata": {},
   "outputs": [
    {
     "data": {
      "text/plain": [
       "8341"
      ]
     },
     "execution_count": 10,
     "metadata": {},
     "output_type": "execute_result"
    }
   ],
   "source": [
    "# Кол-во уникальных активных пользователей во время проведения эксперимента (user_id)\n",
    "active_users.user_id.nunique()"
   ]
  },
  {
   "cell_type": "code",
   "execution_count": 11,
   "metadata": {},
   "outputs": [
    {
     "data": {
      "text/plain": [
       "B    59883\n",
       "A    14693\n",
       "Name: group, dtype: int64"
      ]
     },
     "execution_count": 11,
     "metadata": {},
     "output_type": "execute_result"
    }
   ],
   "source": [
    "# Кол-во пользователей в тестовой(В) и контрольной(А) группах\n",
    "groups.group.value_counts()"
   ]
  },
  {
   "cell_type": "code",
   "execution_count": 12,
   "metadata": {},
   "outputs": [
    {
     "data": {
      "text/plain": [
       "74576"
      ]
     },
     "execution_count": 12,
     "metadata": {},
     "output_type": "execute_result"
    }
   ],
   "source": [
    "# Общее число пользователей, принимавших участие в эксперименте\n",
    "groups.user_id.nunique()"
   ]
  },
  {
   "cell_type": "markdown",
   "metadata": {},
   "source": [
    "Из 74576 уникальных пользователей, учавствующих в тестировании (из них в тестовой группе - 59883, контрольной - 14693), кол-во пользователей, посетивших приложение составило 8341.\n",
    "\n",
    "Соединим датафрейм groups с датафреймом active_users, оставив только активных пользователей, посетивших приложение во время эксперимента. Для этого воспользуемся методом соединения строк \"inner\" с фильтром по \"user_id\""
   ]
  },
  {
   "cell_type": "code",
   "execution_count": 13,
   "metadata": {},
   "outputs": [],
   "source": [
    "df = groups.merge(active_users, on=\"user_id\", how=\"inner\")"
   ]
  },
  {
   "cell_type": "code",
   "execution_count": 14,
   "metadata": {},
   "outputs": [
    {
     "data": {
      "text/plain": [
       "8341"
      ]
     },
     "execution_count": 14,
     "metadata": {},
     "output_type": "execute_result"
    }
   ],
   "source": [
    "# Проверим , что кол-во активнх пользователей из датафрейма active_users (8341) не изменилось\n",
    "df.user_id.nunique()"
   ]
  },
  {
   "cell_type": "markdown",
   "metadata": {},
   "source": [
    "Соединим получившийся датафрейм с информацией о пользователях, совершивших транзакции, методом соединения строк \"left\" (чтобы оставить информацию о пользователях не совершивших транзакции) с фильтром \"user_id\""
   ]
  },
  {
   "cell_type": "code",
   "execution_count": 15,
   "metadata": {},
   "outputs": [],
   "source": [
    "df_full = df.merge(purchases, on=\"user_id\", how=\"left\")"
   ]
  },
  {
   "cell_type": "code",
   "execution_count": 16,
   "metadata": {},
   "outputs": [
    {
     "data": {
      "text/plain": [
       "user_id        0\n",
       "group          0\n",
       "country        0\n",
       "platform       0\n",
       "sex            0\n",
       "revenue     7949\n",
       "dtype: int64"
      ]
     },
     "execution_count": 16,
     "metadata": {},
     "output_type": "execute_result"
    }
   ],
   "source": [
    "df_full.isna().sum()"
   ]
  },
  {
   "cell_type": "code",
   "execution_count": 17,
   "metadata": {},
   "outputs": [
    {
     "data": {
      "text/plain": [
       "False"
      ]
     },
     "execution_count": 17,
     "metadata": {},
     "output_type": "execute_result"
    }
   ],
   "source": [
    "# Проверка на дубликаты\n",
    "any(df_full['user_id'].duplicated())"
   ]
  },
  {
   "cell_type": "code",
   "execution_count": 18,
   "metadata": {},
   "outputs": [
    {
     "data": {
      "text/plain": [
       "8341"
      ]
     },
     "execution_count": 18,
     "metadata": {},
     "output_type": "execute_result"
    }
   ],
   "source": [
    "# Проверим , что кол-во активных пользователей (8341) не изменилось\n",
    "df_full.user_id.nunique()"
   ]
  },
  {
   "cell_type": "code",
   "execution_count": 19,
   "metadata": {},
   "outputs": [
    {
     "data": {
      "text/html": [
       "<div>\n",
       "<style scoped>\n",
       "    .dataframe tbody tr th:only-of-type {\n",
       "        vertical-align: middle;\n",
       "    }\n",
       "\n",
       "    .dataframe tbody tr th {\n",
       "        vertical-align: top;\n",
       "    }\n",
       "\n",
       "    .dataframe thead th {\n",
       "        text-align: right;\n",
       "    }\n",
       "</style>\n",
       "<table border=\"1\" class=\"dataframe\">\n",
       "  <thead>\n",
       "    <tr style=\"text-align: right;\">\n",
       "      <th></th>\n",
       "      <th>user_id</th>\n",
       "    </tr>\n",
       "    <tr>\n",
       "      <th>group</th>\n",
       "      <th></th>\n",
       "    </tr>\n",
       "  </thead>\n",
       "  <tbody>\n",
       "    <tr>\n",
       "      <th>A</th>\n",
       "      <td>1538</td>\n",
       "    </tr>\n",
       "    <tr>\n",
       "      <th>B</th>\n",
       "      <td>6803</td>\n",
       "    </tr>\n",
       "  </tbody>\n",
       "</table>\n",
       "</div>"
      ],
      "text/plain": [
       "       user_id\n",
       "group         \n",
       "A         1538\n",
       "B         6803"
      ]
     },
     "execution_count": 19,
     "metadata": {},
     "output_type": "execute_result"
    }
   ],
   "source": [
    "# Проверим кол-во пользователей в тестовой и контрольной группах\n",
    "df_full.groupby('group').agg({'user_id':'count'})"
   ]
  },
  {
   "cell_type": "code",
   "execution_count": 20,
   "metadata": {},
   "outputs": [],
   "source": [
    "# Посмотрим какое кол-во из всех пользователей в контрольной и тестовой группах совершили целевое действие"
   ]
  },
  {
   "cell_type": "code",
   "execution_count": 22,
   "metadata": {},
   "outputs": [
    {
     "data": {
      "text/plain": [
       "78"
      ]
     },
     "execution_count": 22,
     "metadata": {},
     "output_type": "execute_result"
    }
   ],
   "source": [
    "df_full.query(\"group == 'A'\").revenue.count()"
   ]
  },
  {
   "cell_type": "code",
   "execution_count": 23,
   "metadata": {},
   "outputs": [
    {
     "data": {
      "text/plain": [
       "314"
      ]
     },
     "execution_count": 23,
     "metadata": {},
     "output_type": "execute_result"
    }
   ],
   "source": [
    "df_full.query(\"group == 'B'\").revenue.count()"
   ]
  },
  {
   "cell_type": "markdown",
   "metadata": {},
   "source": [
    "В контрольной группе число пользователей, купивших шаблоны, составило 78 человек, в тестовой 314.\n",
    "Выборки имеют сильный дисбаланс. Так, в тестовой группе людей в 4 раза больше. Посмотрим подробнее как разбиты пользователи на тестовую и контрольную группы."
   ]
  },
  {
   "cell_type": "code",
   "execution_count": 24,
   "metadata": {},
   "outputs": [],
   "source": [
    "# Распределение покупателей по группам и по странам\n",
    "distribution_by_country = (\n",
    "                df_full\n",
    "                    .groupby(['group', 'country'], as_index=False)\n",
    "                    .agg({'user_id': 'count'})\n",
    "                    .pivot(index='group', columns='country', values='user_id')\n",
    "                           )"
   ]
  },
  {
   "cell_type": "code",
   "execution_count": 25,
   "metadata": {},
   "outputs": [],
   "source": [
    "# Распределение покупателей по группам и по платформе\n",
    "distribution_by_platform = (\n",
    "                df_full\n",
    "                    .groupby(['group', 'platform'], as_index=False)\n",
    "                    .agg({'user_id': 'count'})\n",
    "                    .pivot(index='group', columns='platform', values='user_id')\n",
    "                           )"
   ]
  },
  {
   "cell_type": "code",
   "execution_count": 26,
   "metadata": {},
   "outputs": [],
   "source": [
    "# Распределение покупателей по группам и по полу\n",
    "distribution_by_sex = (\n",
    "                df_full\n",
    "                    .groupby(['group', 'sex'], as_index=False)\n",
    "                    .agg({'user_id': 'count'})\n",
    "                    .pivot(index='group', columns='sex', values='user_id')\n",
    "                      )"
   ]
  },
  {
   "cell_type": "code",
   "execution_count": 27,
   "metadata": {},
   "outputs": [
    {
     "data": {
      "text/html": [
       "<div>\n",
       "<style scoped>\n",
       "    .dataframe tbody tr th:only-of-type {\n",
       "        vertical-align: middle;\n",
       "    }\n",
       "\n",
       "    .dataframe tbody tr th {\n",
       "        vertical-align: top;\n",
       "    }\n",
       "\n",
       "    .dataframe thead th {\n",
       "        text-align: right;\n",
       "    }\n",
       "</style>\n",
       "<table border=\"1\" class=\"dataframe\">\n",
       "  <thead>\n",
       "    <tr style=\"text-align: right;\">\n",
       "      <th>group</th>\n",
       "      <th>A</th>\n",
       "      <th>B</th>\n",
       "    </tr>\n",
       "  </thead>\n",
       "  <tbody>\n",
       "    <tr>\n",
       "      <th>Russia</th>\n",
       "      <td>915</td>\n",
       "      <td>4492</td>\n",
       "    </tr>\n",
       "    <tr>\n",
       "      <th>Sweden</th>\n",
       "      <td>623</td>\n",
       "      <td>2311</td>\n",
       "    </tr>\n",
       "    <tr>\n",
       "      <th>android</th>\n",
       "      <td>834</td>\n",
       "      <td>3787</td>\n",
       "    </tr>\n",
       "    <tr>\n",
       "      <th>ios</th>\n",
       "      <td>704</td>\n",
       "      <td>3016</td>\n",
       "    </tr>\n",
       "    <tr>\n",
       "      <th>female</th>\n",
       "      <td>753</td>\n",
       "      <td>3392</td>\n",
       "    </tr>\n",
       "    <tr>\n",
       "      <th>male</th>\n",
       "      <td>785</td>\n",
       "      <td>3411</td>\n",
       "    </tr>\n",
       "  </tbody>\n",
       "</table>\n",
       "</div>"
      ],
      "text/plain": [
       "group      A     B\n",
       "Russia   915  4492\n",
       "Sweden   623  2311\n",
       "android  834  3787\n",
       "ios      704  3016\n",
       "female   753  3392\n",
       "male     785  3411"
      ]
     },
     "execution_count": 27,
     "metadata": {},
     "output_type": "execute_result"
    }
   ],
   "source": [
    "# Объединим полученные таблицы\n",
    "distribution_by_group = pd.concat([distribution_by_country, distribution_by_platform, distribution_by_sex], axis=1).transpose()\n",
    "distribution_by_group"
   ]
  },
  {
   "cell_type": "code",
   "execution_count": 28,
   "metadata": {},
   "outputs": [
    {
     "data": {
      "text/html": [
       "<div>\n",
       "<style scoped>\n",
       "    .dataframe tbody tr th:only-of-type {\n",
       "        vertical-align: middle;\n",
       "    }\n",
       "\n",
       "    .dataframe tbody tr th {\n",
       "        vertical-align: top;\n",
       "    }\n",
       "\n",
       "    .dataframe thead th {\n",
       "        text-align: right;\n",
       "    }\n",
       "</style>\n",
       "<table border=\"1\" class=\"dataframe\">\n",
       "  <thead>\n",
       "    <tr style=\"text-align: right;\">\n",
       "      <th>group</th>\n",
       "      <th>A</th>\n",
       "      <th>B</th>\n",
       "      <th>A/B</th>\n",
       "    </tr>\n",
       "  </thead>\n",
       "  <tbody>\n",
       "    <tr>\n",
       "      <th>Russia</th>\n",
       "      <td>915</td>\n",
       "      <td>4492</td>\n",
       "      <td>0.20</td>\n",
       "    </tr>\n",
       "    <tr>\n",
       "      <th>Sweden</th>\n",
       "      <td>623</td>\n",
       "      <td>2311</td>\n",
       "      <td>0.27</td>\n",
       "    </tr>\n",
       "    <tr>\n",
       "      <th>android</th>\n",
       "      <td>834</td>\n",
       "      <td>3787</td>\n",
       "      <td>0.22</td>\n",
       "    </tr>\n",
       "    <tr>\n",
       "      <th>ios</th>\n",
       "      <td>704</td>\n",
       "      <td>3016</td>\n",
       "      <td>0.23</td>\n",
       "    </tr>\n",
       "    <tr>\n",
       "      <th>female</th>\n",
       "      <td>753</td>\n",
       "      <td>3392</td>\n",
       "      <td>0.22</td>\n",
       "    </tr>\n",
       "    <tr>\n",
       "      <th>male</th>\n",
       "      <td>785</td>\n",
       "      <td>3411</td>\n",
       "      <td>0.23</td>\n",
       "    </tr>\n",
       "  </tbody>\n",
       "</table>\n",
       "</div>"
      ],
      "text/plain": [
       "group      A     B   A/B\n",
       "Russia   915  4492  0.20\n",
       "Sweden   623  2311  0.27\n",
       "android  834  3787  0.22\n",
       "ios      704  3016  0.23\n",
       "female   753  3392  0.22\n",
       "male     785  3411  0.23"
      ]
     },
     "execution_count": 28,
     "metadata": {},
     "output_type": "execute_result"
    }
   ],
   "source": [
    "# Добавим новую колонку с оношением пользователей в тестовой и контрольной группе\n",
    "distribution_by_group['A/B'] = (distribution_by_group.A/distribution_by_group.B).round(2)\n",
    "distribution_by_group"
   ]
  },
  {
   "cell_type": "markdown",
   "metadata": {},
   "source": [
    "#### Самый большой дисбаланс тестовой и контрольной групп в Швеции. Отношение пользователей контрольной к тестовой группе в Швеции равно 0.27. Рассмотрим подробнее как соотносятся кол-во пользователей в разных странах на разных платформах."
   ]
  },
  {
   "cell_type": "code",
   "execution_count": 29,
   "metadata": {},
   "outputs": [
    {
     "data": {
      "text/html": [
       "<div>\n",
       "<style scoped>\n",
       "    .dataframe tbody tr th:only-of-type {\n",
       "        vertical-align: middle;\n",
       "    }\n",
       "\n",
       "    .dataframe tbody tr th {\n",
       "        vertical-align: top;\n",
       "    }\n",
       "\n",
       "    .dataframe thead th {\n",
       "        text-align: right;\n",
       "    }\n",
       "</style>\n",
       "<table border=\"1\" class=\"dataframe\">\n",
       "  <thead>\n",
       "    <tr style=\"text-align: right;\">\n",
       "      <th></th>\n",
       "      <th>group</th>\n",
       "      <th>country</th>\n",
       "      <th>platform</th>\n",
       "      <th>user_id</th>\n",
       "    </tr>\n",
       "  </thead>\n",
       "  <tbody>\n",
       "    <tr>\n",
       "      <th>0</th>\n",
       "      <td>A</td>\n",
       "      <td>Russia</td>\n",
       "      <td>android</td>\n",
       "      <td>510</td>\n",
       "    </tr>\n",
       "    <tr>\n",
       "      <th>1</th>\n",
       "      <td>A</td>\n",
       "      <td>Russia</td>\n",
       "      <td>ios</td>\n",
       "      <td>405</td>\n",
       "    </tr>\n",
       "    <tr>\n",
       "      <th>2</th>\n",
       "      <td>A</td>\n",
       "      <td>Sweden</td>\n",
       "      <td>android</td>\n",
       "      <td>324</td>\n",
       "    </tr>\n",
       "    <tr>\n",
       "      <th>3</th>\n",
       "      <td>A</td>\n",
       "      <td>Sweden</td>\n",
       "      <td>ios</td>\n",
       "      <td>299</td>\n",
       "    </tr>\n",
       "    <tr>\n",
       "      <th>4</th>\n",
       "      <td>B</td>\n",
       "      <td>Russia</td>\n",
       "      <td>android</td>\n",
       "      <td>2478</td>\n",
       "    </tr>\n",
       "    <tr>\n",
       "      <th>5</th>\n",
       "      <td>B</td>\n",
       "      <td>Russia</td>\n",
       "      <td>ios</td>\n",
       "      <td>2014</td>\n",
       "    </tr>\n",
       "    <tr>\n",
       "      <th>6</th>\n",
       "      <td>B</td>\n",
       "      <td>Sweden</td>\n",
       "      <td>android</td>\n",
       "      <td>1309</td>\n",
       "    </tr>\n",
       "    <tr>\n",
       "      <th>7</th>\n",
       "      <td>B</td>\n",
       "      <td>Sweden</td>\n",
       "      <td>ios</td>\n",
       "      <td>1002</td>\n",
       "    </tr>\n",
       "  </tbody>\n",
       "</table>\n",
       "</div>"
      ],
      "text/plain": [
       "  group country platform  user_id\n",
       "0     A  Russia  android      510\n",
       "1     A  Russia      ios      405\n",
       "2     A  Sweden  android      324\n",
       "3     A  Sweden      ios      299\n",
       "4     B  Russia  android     2478\n",
       "5     B  Russia      ios     2014\n",
       "6     B  Sweden  android     1309\n",
       "7     B  Sweden      ios     1002"
      ]
     },
     "execution_count": 29,
     "metadata": {},
     "output_type": "execute_result"
    }
   ],
   "source": [
    "# Сгруппируем по группам, странам и платформам пользователей\n",
    "distribution_by_country_vs_platform = (\n",
    "df_full\n",
    "                    .groupby(['group', 'country','platform'], as_index=False)\n",
    "                    .agg({'user_id': 'count'})\n",
    "                    #.pivot(index='group', columns='platform', values='revenue')\n",
    "                           )\n",
    "distribution_by_country_vs_platform"
   ]
  },
  {
   "cell_type": "code",
   "execution_count": 30,
   "metadata": {},
   "outputs": [
    {
     "data": {
      "text/html": [
       "<div>\n",
       "<style scoped>\n",
       "    .dataframe tbody tr th:only-of-type {\n",
       "        vertical-align: middle;\n",
       "    }\n",
       "\n",
       "    .dataframe tbody tr th {\n",
       "        vertical-align: top;\n",
       "    }\n",
       "\n",
       "    .dataframe thead th {\n",
       "        text-align: right;\n",
       "    }\n",
       "</style>\n",
       "<table border=\"1\" class=\"dataframe\">\n",
       "  <thead>\n",
       "    <tr style=\"text-align: right;\">\n",
       "      <th></th>\n",
       "      <th>group</th>\n",
       "      <th>country</th>\n",
       "      <th>sex</th>\n",
       "      <th>user_id</th>\n",
       "    </tr>\n",
       "  </thead>\n",
       "  <tbody>\n",
       "    <tr>\n",
       "      <th>0</th>\n",
       "      <td>A</td>\n",
       "      <td>Russia</td>\n",
       "      <td>female</td>\n",
       "      <td>441</td>\n",
       "    </tr>\n",
       "    <tr>\n",
       "      <th>1</th>\n",
       "      <td>A</td>\n",
       "      <td>Russia</td>\n",
       "      <td>male</td>\n",
       "      <td>474</td>\n",
       "    </tr>\n",
       "    <tr>\n",
       "      <th>2</th>\n",
       "      <td>A</td>\n",
       "      <td>Sweden</td>\n",
       "      <td>female</td>\n",
       "      <td>312</td>\n",
       "    </tr>\n",
       "    <tr>\n",
       "      <th>3</th>\n",
       "      <td>A</td>\n",
       "      <td>Sweden</td>\n",
       "      <td>male</td>\n",
       "      <td>311</td>\n",
       "    </tr>\n",
       "    <tr>\n",
       "      <th>4</th>\n",
       "      <td>B</td>\n",
       "      <td>Russia</td>\n",
       "      <td>female</td>\n",
       "      <td>2223</td>\n",
       "    </tr>\n",
       "    <tr>\n",
       "      <th>5</th>\n",
       "      <td>B</td>\n",
       "      <td>Russia</td>\n",
       "      <td>male</td>\n",
       "      <td>2269</td>\n",
       "    </tr>\n",
       "    <tr>\n",
       "      <th>6</th>\n",
       "      <td>B</td>\n",
       "      <td>Sweden</td>\n",
       "      <td>female</td>\n",
       "      <td>1169</td>\n",
       "    </tr>\n",
       "    <tr>\n",
       "      <th>7</th>\n",
       "      <td>B</td>\n",
       "      <td>Sweden</td>\n",
       "      <td>male</td>\n",
       "      <td>1142</td>\n",
       "    </tr>\n",
       "  </tbody>\n",
       "</table>\n",
       "</div>"
      ],
      "text/plain": [
       "  group country     sex  user_id\n",
       "0     A  Russia  female      441\n",
       "1     A  Russia    male      474\n",
       "2     A  Sweden  female      312\n",
       "3     A  Sweden    male      311\n",
       "4     B  Russia  female     2223\n",
       "5     B  Russia    male     2269\n",
       "6     B  Sweden  female     1169\n",
       "7     B  Sweden    male     1142"
      ]
     },
     "execution_count": 30,
     "metadata": {},
     "output_type": "execute_result"
    }
   ],
   "source": [
    "# Сгруппируем по группам, странам и полу пользователей\n",
    "distribution_by_country_vs_sex = (\n",
    "df_full\n",
    "                    .groupby(['group', 'country','sex'], as_index=False)\n",
    "                    .agg({'user_id': 'count'})\n",
    "                    #.pivot(index='group', columns='platform', values='revenue')\n",
    "                           )\n",
    "distribution_by_country_vs_sex"
   ]
  },
  {
   "cell_type": "markdown",
   "metadata": {},
   "source": [
    "### Вывод: большой разброс в отношении пользователей тестовой и контрольной групп в Швеции (0.27) обусловлен неравномерным распределением среди групп пользователей по платформе. Так, в Швеции в тестовой группе значительно преобладают пользователи на android. Что нарушает \"честность\" результатов A/B тестирования. А с учетом, что выборки у нас и так несбалансированы результаты A/B тестирования для Швеции могут дать ложноположительный или ложноотрицательный результат. \n",
    "### Принимаю решение разделить оценку результатов a/b тестирования по странам.\n",
    "* В подсчетах рассматривала именно отношение, а не разницу, пользователей по параметрам, т.к. группы контрольная и тестовая несбалансированы.\n",
    "\n",
    "Для групп из России есть небольшой дисбаланс в тестовой группе: отношение женщин к мужчинам 0,98. В то время как в контрольной группе это значение равно 0.93. Следует учесть это при оценке результатов."
   ]
  },
  {
   "cell_type": "code",
   "execution_count": 31,
   "metadata": {},
   "outputs": [
    {
     "data": {
      "text/html": [
       "<div>\n",
       "<style scoped>\n",
       "    .dataframe tbody tr th:only-of-type {\n",
       "        vertical-align: middle;\n",
       "    }\n",
       "\n",
       "    .dataframe tbody tr th {\n",
       "        vertical-align: top;\n",
       "    }\n",
       "\n",
       "    .dataframe thead th {\n",
       "        text-align: right;\n",
       "    }\n",
       "</style>\n",
       "<table border=\"1\" class=\"dataframe\">\n",
       "  <thead>\n",
       "    <tr style=\"text-align: right;\">\n",
       "      <th></th>\n",
       "      <th>group</th>\n",
       "      <th>country</th>\n",
       "      <th>platform</th>\n",
       "      <th>revenue</th>\n",
       "    </tr>\n",
       "  </thead>\n",
       "  <tbody>\n",
       "    <tr>\n",
       "      <th>0</th>\n",
       "      <td>A</td>\n",
       "      <td>Russia</td>\n",
       "      <td>android</td>\n",
       "      <td>593.0</td>\n",
       "    </tr>\n",
       "    <tr>\n",
       "      <th>1</th>\n",
       "      <td>A</td>\n",
       "      <td>Russia</td>\n",
       "      <td>ios</td>\n",
       "      <td>590.0</td>\n",
       "    </tr>\n",
       "    <tr>\n",
       "      <th>2</th>\n",
       "      <td>A</td>\n",
       "      <td>Sweden</td>\n",
       "      <td>android</td>\n",
       "      <td>850.5</td>\n",
       "    </tr>\n",
       "    <tr>\n",
       "      <th>3</th>\n",
       "      <td>A</td>\n",
       "      <td>Sweden</td>\n",
       "      <td>ios</td>\n",
       "      <td>499.0</td>\n",
       "    </tr>\n",
       "    <tr>\n",
       "      <th>4</th>\n",
       "      <td>B</td>\n",
       "      <td>Russia</td>\n",
       "      <td>android</td>\n",
       "      <td>1540.0</td>\n",
       "    </tr>\n",
       "    <tr>\n",
       "      <th>5</th>\n",
       "      <td>B</td>\n",
       "      <td>Russia</td>\n",
       "      <td>ios</td>\n",
       "      <td>999.5</td>\n",
       "    </tr>\n",
       "    <tr>\n",
       "      <th>6</th>\n",
       "      <td>B</td>\n",
       "      <td>Sweden</td>\n",
       "      <td>android</td>\n",
       "      <td>1075.5</td>\n",
       "    </tr>\n",
       "    <tr>\n",
       "      <th>7</th>\n",
       "      <td>B</td>\n",
       "      <td>Sweden</td>\n",
       "      <td>ios</td>\n",
       "      <td>1909.0</td>\n",
       "    </tr>\n",
       "  </tbody>\n",
       "</table>\n",
       "</div>"
      ],
      "text/plain": [
       "  group country platform  revenue\n",
       "0     A  Russia  android    593.0\n",
       "1     A  Russia      ios    590.0\n",
       "2     A  Sweden  android    850.5\n",
       "3     A  Sweden      ios    499.0\n",
       "4     B  Russia  android   1540.0\n",
       "5     B  Russia      ios    999.5\n",
       "6     B  Sweden  android   1075.5\n",
       "7     B  Sweden      ios   1909.0"
      ]
     },
     "execution_count": 31,
     "metadata": {},
     "output_type": "execute_result"
    }
   ],
   "source": [
    "# Посмотрим какое медианное(среднее не берем,т.к. есть выбросы) значение общего дохода группы принесли с разбивкой по платформе\n",
    "paying_by_country_vs_platform = (\n",
    "                            df_full\n",
    "                                    .groupby(['group', 'country','platform'], as_index=False)\n",
    "                                    .agg({'revenue': 'median'})\n",
    "                                  )\n",
    "paying_by_country_vs_platform"
   ]
  },
  {
   "cell_type": "markdown",
   "metadata": {},
   "source": [
    "Интересный факт наблюдаем в Швеции в тестовой группе. Пользователей на android в тестовой группе было гораздо больше, чем на ios. Однако, медианное значение дохода на androide в тестовой группе в Швеции значительно ниже, чем в контрольной. Т.е. с выкатыванием новой фичи приложения с колекцией шаблонов на пользователей в Швеции с платформой android доход значительно ниже, чем в контрольной группе на ios. Вопрос в коректной работе новой версии приложения на платформе android в Швеции.\n",
    "\n"
   ]
  },
  {
   "cell_type": "markdown",
   "metadata": {},
   "source": [
    "\n",
    "## Тест Левена на равность дисперсий выборок\n",
    "\n",
    "Но - дисперсии выборок равны\n",
    "\n",
    "Тест проведем сначала без разбиения по странам, затем с разбиением по странам."
   ]
  },
  {
   "cell_type": "code",
   "execution_count": 32,
   "metadata": {},
   "outputs": [],
   "source": [
    "# Удаляем строки с пропцщенными значениями,чтобы оставить только платящих пользователей\n",
    "df_paying_user = df_full.dropna()"
   ]
  },
  {
   "cell_type": "markdown",
   "metadata": {},
   "source": [
    "#### Тест Левена для всех стран"
   ]
  },
  {
   "cell_type": "code",
   "execution_count": 171,
   "metadata": {},
   "outputs": [
    {
     "data": {
      "text/plain": [
       "0.08020177652122025"
      ]
     },
     "execution_count": 171,
     "metadata": {},
     "output_type": "execute_result"
    }
   ],
   "source": [
    "stats.levene(df_paying_user.query(\"group == 'A'\").revenue, df_paying_user.query(\"group == 'B'\").revenue, center='median')[1]"
   ]
  },
  {
   "cell_type": "markdown",
   "metadata": {},
   "source": [
    "#### Проведем тест Левена для выборок только из России"
   ]
  },
  {
   "cell_type": "code",
   "execution_count": 172,
   "metadata": {},
   "outputs": [],
   "source": [
    "df_paying_user_Russia = df_paying_user.query(\"country == 'Russia'\")"
   ]
  },
  {
   "cell_type": "code",
   "execution_count": 173,
   "metadata": {},
   "outputs": [
    {
     "data": {
      "text/plain": [
       "0.010182727165030207"
      ]
     },
     "execution_count": 173,
     "metadata": {},
     "output_type": "execute_result"
    }
   ],
   "source": [
    "stats.levene(df_paying_user_Russia.query(\"group == 'A'\").revenue, df_paying_user_Russia.query(\"group == 'B'\").revenue, center='median')[1]"
   ]
  },
  {
   "cell_type": "markdown",
   "metadata": {},
   "source": [
    "#### Проведем тест Левена для выборок только из Швеции"
   ]
  },
  {
   "cell_type": "code",
   "execution_count": 174,
   "metadata": {},
   "outputs": [],
   "source": [
    "df_paying_user_Sweden = df_paying_user.query(\"country == 'Sweden'\")"
   ]
  },
  {
   "cell_type": "code",
   "execution_count": 175,
   "metadata": {},
   "outputs": [
    {
     "data": {
      "text/plain": [
       "0.7425575873280059"
      ]
     },
     "execution_count": 175,
     "metadata": {},
     "output_type": "execute_result"
    }
   ],
   "source": [
    "stats.levene(df_paying_user_Sweden.query(\"group == 'A'\").revenue, df_paying_user_Sweden.query(\"group == 'B'\").revenue, center='median')[1]"
   ]
  },
  {
   "cell_type": "markdown",
   "metadata": {},
   "source": [
    "Полученные значения p-value:\n",
    "     - 0,08 для всех стран\n",
    "     - 0,01 для России\n",
    "     - 0,74 для Швеции\n",
    "\n",
    "В России мы отклоняем нулевую гипотезу(дисперсии выборок не равны, возможно обусловлено выбросами).\n",
    "В Швеции мы не можем отклонить нулевую гипотезу(дисперсии выборок равны)"
   ]
  },
  {
   "cell_type": "markdown",
   "metadata": {},
   "source": [
    "## Проверим выборки на нормальность распределения\n",
    "Построим гистограммы для визуальной оценки"
   ]
  },
  {
   "cell_type": "markdown",
   "metadata": {},
   "source": [
    "### Общая"
   ]
  },
  {
   "cell_type": "code",
   "execution_count": 176,
   "metadata": {},
   "outputs": [],
   "source": [
    "ax = df_full.query(\"group == 'A'\").revenue\n",
    "bx = df_full.query(\"group == 'B'\").revenue"
   ]
  },
  {
   "cell_type": "code",
   "execution_count": 177,
   "metadata": {},
   "outputs": [
    {
     "name": "stderr",
     "output_type": "stream",
     "text": [
      "/opt/tljh/user/lib/python3.7/site-packages/seaborn/distributions.py:2557: FutureWarning: `distplot` is a deprecated function and will be removed in a future version. Please adapt your code to use either `displot` (a figure-level function with similar flexibility) or `histplot` (an axes-level function for histograms).\n",
      "  warnings.warn(msg, FutureWarning)\n"
     ]
    },
    {
     "data": {
      "text/plain": [
       "<matplotlib.axes._subplots.AxesSubplot at 0x7f2a7d8a1978>"
      ]
     },
     "execution_count": 177,
     "metadata": {},
     "output_type": "execute_result"
    },
    {
     "data": {
      "image/png": "[encoded data removed]",
      "text/plain": [
       "<Figure size 432x288 with 1 Axes>"
      ]
     },
     "metadata": {},
     "output_type": "display_data"
    }
   ],
   "source": [
    "sns.distplot(ax, kde = False)\n",
    "sns.distplot(bx, kde = False)"
   ]
  },
  {
   "cell_type": "markdown",
   "metadata": {},
   "source": [
    "Распределения ненормальные. Попробуем прологарифмироать данные"
   ]
  },
  {
   "cell_type": "code",
   "execution_count": 178,
   "metadata": {},
   "outputs": [
    {
     "data": {
      "text/plain": [
       "<matplotlib.axes._subplots.AxesSubplot at 0x7f2a7dbacf28>"
      ]
     },
     "execution_count": 178,
     "metadata": {},
     "output_type": "execute_result"
    },
    {
     "data": {
      "image/png": "[encoded data removed]",
      "text/plain": [
       "<Figure size 432x288 with 1 Axes>"
      ]
     },
     "metadata": {},
     "output_type": "display_data"
    }
   ],
   "source": [
    "sns.distplot(np.log(ax), kde = False)\n",
    "sns.distplot(np.log(bx), kde = False)"
   ]
  },
  {
   "cell_type": "markdown",
   "metadata": {},
   "source": [
    "Логарифмирование не помогло, оставляем как есть."
   ]
  },
  {
   "cell_type": "markdown",
   "metadata": {},
   "source": [
    "### Для России"
   ]
  },
  {
   "cell_type": "code",
   "execution_count": 179,
   "metadata": {},
   "outputs": [],
   "source": [
    "a_Russia = df_full.query(\"country == 'Russia' and group == 'A'\").revenue\n",
    "b_Russia = df_full.query(\"country == 'Russia' and group == 'B'\").revenue"
   ]
  },
  {
   "cell_type": "code",
   "execution_count": 180,
   "metadata": {},
   "outputs": [
    {
     "data": {
      "text/plain": [
       "<matplotlib.axes._subplots.AxesSubplot at 0x7f2a7d7c0cf8>"
      ]
     },
     "execution_count": 180,
     "metadata": {},
     "output_type": "execute_result"
    },
    {
     "data": {
      "image/png": "[encoded data removed]",
      "text/plain": [
       "<Figure size 432x288 with 1 Axes>"
      ]
     },
     "metadata": {},
     "output_type": "display_data"
    }
   ],
   "source": [
    "sns.distplot(a_Russia, kde = False)\n",
    "sns.distplot(b_Russia, kde = False)"
   ]
  },
  {
   "cell_type": "markdown",
   "metadata": {},
   "source": [
    "### Для Швеции"
   ]
  },
  {
   "cell_type": "code",
   "execution_count": 181,
   "metadata": {},
   "outputs": [],
   "source": [
    "a_Sweden = df_full.query(\"country == 'Sweden' & group == 'A'\").revenue\n",
    "b_Sweden = df_full.query(\"country == 'Sweden' & group == 'B'\").revenue"
   ]
  },
  {
   "cell_type": "code",
   "execution_count": 182,
   "metadata": {},
   "outputs": [
    {
     "data": {
      "text/plain": [
       "<matplotlib.axes._subplots.AxesSubplot at 0x7f2a7d6d7390>"
      ]
     },
     "execution_count": 182,
     "metadata": {},
     "output_type": "execute_result"
    },
    {
     "data": {
      "image/png": "[encoded data removed]",
      "text/plain": [
       "<Figure size 432x288 with 1 Axes>"
      ]
     },
     "metadata": {},
     "output_type": "display_data"
    }
   ],
   "source": [
    "sns.distplot(a_Sweden, kde = False)\n",
    "sns.distplot(b_Sweden, kde = False)"
   ]
  },
  {
   "cell_type": "markdown",
   "metadata": {},
   "source": [
    "#### Построим боксплоты"
   ]
  },
  {
   "cell_type": "code",
   "execution_count": 183,
   "metadata": {},
   "outputs": [
    {
     "data": {
      "text/plain": [
       "Text(0, 0.5, 'Доход')"
      ]
     },
     "execution_count": 183,
     "metadata": {},
     "output_type": "execute_result"
    },
    {
     "data": {
      "image/png": "[encoded data removed]",
      "text/plain": [
       "<Figure size 432x288 with 1 Axes>"
      ]
     },
     "metadata": {},
     "output_type": "display_data"
    }
   ],
   "source": [
    "# С разбивкой по странам\n",
    "sns.boxplot(x='country', y='revenue', hue='group', data=df_paying_user)\n",
    "plt.title('Доход по группам')\n",
    "plt.xlabel('Группа')\n",
    "plt.ylabel('Доход')"
   ]
  },
  {
   "cell_type": "markdown",
   "metadata": {},
   "source": [
    "Исходя из представленных графиков Общий доход в России в тестовой группе имеет выреженный эффект.\n",
    "Возможные выбросы имеются в контрольной группе в России(что не влияет на очевидное превосходство дохода тестовой группы. Также , из-за отсутствия исторических данных, мы не можем оценить можно ли считать эти данные выбросами или нормальными значениями), а также во всех группах в Швеции.\n",
    "Медианное значение дохода в тестовой группы в России больше,чем в контрольной"
   ]
  },
  {
   "cell_type": "markdown",
   "metadata": {},
   "source": [
    "#### Рассчитаем медианное значение дохода в группах отдельно для стран"
   ]
  },
  {
   "cell_type": "markdown",
   "metadata": {},
   "source": [
    "##### Для России"
   ]
  },
  {
   "cell_type": "code",
   "execution_count": 185,
   "metadata": {},
   "outputs": [
    {
     "name": "stdout",
     "output_type": "stream",
     "text": [
      "Медиана дохода в контрольной группе А: 590.0\n"
     ]
    }
   ],
   "source": [
    "# считаем медианное значение дохода в контрольной группе\n",
    "a_Russia_mean = df_paying_user.query(\"country == 'Russia' & group == 'A'\").revenue.median()\n",
    "print('Медиана дохода в контрольной группе А:', round(a_Russia_mean, 2))"
   ]
  },
  {
   "cell_type": "code",
   "execution_count": 186,
   "metadata": {},
   "outputs": [
    {
     "name": "stdout",
     "output_type": "stream",
     "text": [
      "Медиана дохода в тестовой группе B: 3670.0\n"
     ]
    }
   ],
   "source": [
    "# считаем медианное значение дохода в тестовой группе\n",
    "b_Russia_mean = df_paying_user.query(\"country == 'Russia' & group == 'B' & revenue > 3000\").revenue.median()\n",
    "print('Медиана дохода в тестовой группе B:', round(b_Russia_mean, 2))"
   ]
  },
  {
   "cell_type": "code",
   "execution_count": 187,
   "metadata": {},
   "outputs": [
    {
     "data": {
      "text/plain": [
       "array([ 208., 3669.])"
      ]
     },
     "execution_count": 187,
     "metadata": {},
     "output_type": "execute_result"
    }
   ],
   "source": [
    "# размах значений в контрольной группе\n",
    "np.percentile(df_paying_user.query(\"country == 'Russia' & group == 'A'\").revenue, [0,100])"
   ]
  },
  {
   "cell_type": "code",
   "execution_count": 188,
   "metadata": {},
   "outputs": [
    {
     "data": {
      "text/plain": [
       "array([ 207., 3671.])"
      ]
     },
     "execution_count": 188,
     "metadata": {},
     "output_type": "execute_result"
    }
   ],
   "source": [
    "# размах значений в тестовой группе\n",
    "np.percentile(df_paying_user.query(\"country == 'Russia' & group == 'B'\").revenue, [0,100])"
   ]
  },
  {
   "cell_type": "markdown",
   "metadata": {},
   "source": [
    "Размах max и min значений в обоих группах схож, а медиана дохода в тестовой группе в 2 раза выше, чем в контрольной."
   ]
  },
  {
   "cell_type": "markdown",
   "metadata": {},
   "source": [
    "##### Для Швеции"
   ]
  },
  {
   "cell_type": "code",
   "execution_count": 189,
   "metadata": {},
   "outputs": [
    {
     "name": "stdout",
     "output_type": "stream",
     "text": [
      "Медиана дохода в контрольной группе А: 698.0\n"
     ]
    }
   ],
   "source": [
    "# считаем медианное значение дохода в контрольной группе\n",
    "a_Sweden_mean = df_paying_user.query(\"country == 'Sweden' & group == 'A'\").revenue.median()\n",
    "print('Медиана дохода в контрольной группе А:', round(a_Sweden_mean, 2))"
   ]
  },
  {
   "cell_type": "code",
   "execution_count": 190,
   "metadata": {},
   "outputs": [
    {
     "name": "stdout",
     "output_type": "stream",
     "text": [
      "Медиана дохода в тестовой группе B: 1908.0\n"
     ]
    }
   ],
   "source": [
    "# считаем медианное значение дохода в тестовой группе\n",
    "b_Sweden_mean = df_paying_user.query(\"country == 'Sweden' & group == 'B'\").revenue.median()\n",
    "print('Медиана дохода в тестовой группе B:', round(b_Sweden_mean, 2))"
   ]
  },
  {
   "cell_type": "code",
   "execution_count": 191,
   "metadata": {},
   "outputs": [
    {
     "data": {
      "text/plain": [
       "array([ 208., 3671.])"
      ]
     },
     "execution_count": 191,
     "metadata": {},
     "output_type": "execute_result"
    }
   ],
   "source": [
    "# размах значений в контрольной группе\n",
    "np.percentile(df_paying_user.query(\"country == 'Sweden' & group == 'A'\").revenue, [0,100])"
   ]
  },
  {
   "cell_type": "code",
   "execution_count": 192,
   "metadata": {},
   "outputs": [
    {
     "data": {
      "text/plain": [
       "array([ 208., 4660.])"
      ]
     },
     "execution_count": 192,
     "metadata": {},
     "output_type": "execute_result"
    }
   ],
   "source": [
    "# размах значений в тестовой группе\n",
    "np.percentile(df_paying_user.query(\"country == 'Sweden' & group == 'B'\").revenue, [0,100])"
   ]
  },
  {
   "cell_type": "markdown",
   "metadata": {},
   "source": [
    "Размах значений в тестовой группе больше, чем в контрольной. А медиана дохода в 3 раза в тестовой группе превысила значение, чем в контрольной. Но данный эффект возможно обусловлен несбалансированной выборкой между группами в Швеции. И возможно, если бы непонятность с пользователями на android, которые в тестовой группе показали доход гораздо ниже, чем в контрольной в сравнении с пользователями на ios, то общий доход был бы еще выше."
   ]
  },
  {
   "cell_type": "code",
   "execution_count": 193,
   "metadata": {},
   "outputs": [
    {
     "data": {
      "text/plain": [
       "35"
      ]
     },
     "execution_count": 193,
     "metadata": {},
     "output_type": "execute_result"
    }
   ],
   "source": [
    "# Кол-во платящих польз-лей в Швеции в контрольной группе\n",
    "df_paying_user.query(\"country == 'Sweden' and group == 'A'\").shape[0]"
   ]
  },
  {
   "cell_type": "code",
   "execution_count": 194,
   "metadata": {},
   "outputs": [
    {
     "data": {
      "text/plain": [
       "117"
      ]
     },
     "execution_count": 194,
     "metadata": {},
     "output_type": "execute_result"
    }
   ],
   "source": [
    "# Кол-во платящих польз-лей в Швеции в тестовой группе\n",
    "df_paying_user.query(\"country == 'Sweden' and group == 'B'\").shape[0]"
   ]
  },
  {
   "cell_type": "code",
   "execution_count": 195,
   "metadata": {},
   "outputs": [
    {
     "data": {
      "text/plain": [
       "43"
      ]
     },
     "execution_count": 195,
     "metadata": {},
     "output_type": "execute_result"
    }
   ],
   "source": [
    "# Кол-во платящих польз-лей в России в контрольной группе\n",
    "df_paying_user.query(\"country == 'Russia' and group == 'A'\").shape[0]"
   ]
  },
  {
   "cell_type": "code",
   "execution_count": 196,
   "metadata": {},
   "outputs": [
    {
     "data": {
      "text/plain": [
       "197"
      ]
     },
     "execution_count": 196,
     "metadata": {},
     "output_type": "execute_result"
    }
   ],
   "source": [
    "# Кол-во платящих польз-лей в России в тестовой группе\n",
    "df_paying_user.query(\"country == 'Russia' and group == 'B'\").shape[0]"
   ]
  },
  {
   "cell_type": "markdown",
   "metadata": {},
   "source": [
    "### Т.к. выборки небольшие проведем анализ на нормальность с помощью теста Шапиро-Уилка.\n",
    "Н0 - данные взяты из нормального распределения"
   ]
  },
  {
   "cell_type": "markdown",
   "metadata": {},
   "source": [
    "#### Для всех стран"
   ]
  },
  {
   "cell_type": "code",
   "execution_count": 197,
   "metadata": {},
   "outputs": [
    {
     "data": {
      "text/plain": [
       "1.5417730980793465e-10"
      ]
     },
     "execution_count": 197,
     "metadata": {},
     "output_type": "execute_result"
    }
   ],
   "source": [
    "# Контрольная группа\n",
    "stats.shapiro(df_paying_user.query(\"group == 'A'\").revenue)[1]"
   ]
  },
  {
   "cell_type": "code",
   "execution_count": 198,
   "metadata": {},
   "outputs": [
    {
     "data": {
      "text/plain": [
       "1.665431681028873e-16"
      ]
     },
     "execution_count": 198,
     "metadata": {},
     "output_type": "execute_result"
    }
   ],
   "source": [
    "# Тестовая группа\n",
    "stats.shapiro(df_paying_user.query(\"group == 'B'\").revenue)[1]"
   ]
  },
  {
   "cell_type": "code",
   "execution_count": 199,
   "metadata": {},
   "outputs": [],
   "source": [
    "# Уменьшим размер выборки в тестовой группе до соответсвия с контрольной \n",
    "B_sample = df_paying_user.query(\"group == 'B'\").revenue.sample(df_paying_user.query(\"group == 'A'\").shape[0], random_state=17)"
   ]
  },
  {
   "cell_type": "code",
   "execution_count": 200,
   "metadata": {},
   "outputs": [
    {
     "data": {
      "text/plain": [
       "3.357002498205475e-08"
      ]
     },
     "execution_count": 200,
     "metadata": {},
     "output_type": "execute_result"
    }
   ],
   "source": [
    "# Тест с ограниченной выборкой для тестовой группы\n",
    "stats.shapiro(B_sample)[1]"
   ]
  },
  {
   "cell_type": "markdown",
   "metadata": {},
   "source": [
    "#### Для России"
   ]
  },
  {
   "cell_type": "code",
   "execution_count": 201,
   "metadata": {},
   "outputs": [
    {
     "data": {
      "text/plain": [
       "7.295019344155662e-08"
      ]
     },
     "execution_count": 201,
     "metadata": {},
     "output_type": "execute_result"
    }
   ],
   "source": [
    "stats.shapiro(df_paying_user.query(\"country == 'Russia' and group == 'A'\").revenue)[1]"
   ]
  },
  {
   "cell_type": "code",
   "execution_count": 202,
   "metadata": {},
   "outputs": [
    {
     "data": {
      "text/plain": [
       "1.0906919898495682e-12"
      ]
     },
     "execution_count": 202,
     "metadata": {},
     "output_type": "execute_result"
    }
   ],
   "source": [
    "stats.shapiro(df_paying_user.query(\"country == 'Russia' and group == 'B'\").revenue)[1]"
   ]
  },
  {
   "cell_type": "markdown",
   "metadata": {},
   "source": [
    "#### Для Швеции"
   ]
  },
  {
   "cell_type": "code",
   "execution_count": 203,
   "metadata": {},
   "outputs": [
    {
     "data": {
      "text/plain": [
       "5.708227490686113e-06"
      ]
     },
     "execution_count": 203,
     "metadata": {},
     "output_type": "execute_result"
    }
   ],
   "source": [
    "stats.shapiro(df_paying_user.query(\"country == 'Sweden' and group == 'A'\").revenue)[1]"
   ]
  },
  {
   "cell_type": "code",
   "execution_count": 204,
   "metadata": {},
   "outputs": [
    {
     "data": {
      "text/plain": [
       "1.2456938813798502e-09"
      ]
     },
     "execution_count": 204,
     "metadata": {},
     "output_type": "execute_result"
    }
   ],
   "source": [
    "stats.shapiro(df_paying_user.query(\"country == 'Sweden' and group == 'B'\").revenue)[1]"
   ]
  },
  {
   "cell_type": "markdown",
   "metadata": {},
   "source": [
    "#### Для всех тестов p-value ниже уровня 0,01. Поэтому отклоняем нулевую гипотезу. \n",
    "Гистограммы дистплот и тест Шапиро-Уилка указывают на то, что выборки имеют ненормальное распределение.\n",
    "Учтем это в дальнейшем при оценке стат.значимости результатов.\n",
    "А пока посчитаем основные метрика продукта для оценки эффекта от проведения a/b тестирования.\n",
    "\n"
   ]
  },
  {
   "cell_type": "code",
   "execution_count": null,
   "metadata": {},
   "outputs": [],
   "source": []
  },
  {
   "cell_type": "markdown",
   "metadata": {},
   "source": [
    "## МЕТРИКИ ПРОДУКТА\n",
    "Какие данные мы имеем:\n",
    "- id пользователя\n",
    "- в какой группе он находится(тестовая-А или контрольная-В)\n",
    "- страна пользователя\n",
    "- платформа с которой заходил пользователь в приложение\n",
    "- пол\n",
    "- доход\n",
    "\n",
    "Временных данных никаких нет, поэтому метрики, на которые стоит опираться в данном случает, по моему мнению могут быть такими:\n",
    "\n",
    "* Конверсия(CR, conversion rate) = (Кол-во польз-лей, совершивших целевое дейтсвие)/(Общее число пользователей)\n",
    "* Cредний доход от пользователя за период(ARPU, Average Revenue Per User) = (Общий доход)/(Кол-во пользователей)\n",
    "* Cредний доход от платящего пользователя за период(ARPPU, Average Revenue Per Paying User) = (Общий доход)/(Кол-во платящих пользователей)"
   ]
  },
  {
   "cell_type": "markdown",
   "metadata": {},
   "source": [
    "### CR, conversion rate = (Кол-во польз-лей, совершивших целевое дейтсвие)/(Общее число пользователей)"
   ]
  },
  {
   "cell_type": "markdown",
   "metadata": {},
   "source": [
    "#### Общая"
   ]
  },
  {
   "cell_type": "code",
   "execution_count": 205,
   "metadata": {},
   "outputs": [
    {
     "data": {
      "text/plain": [
       "78"
      ]
     },
     "execution_count": 205,
     "metadata": {},
     "output_type": "execute_result"
    }
   ],
   "source": [
    "# Кол-во платащих пользователей в контрольной группе\n",
    "A_paying = df_paying_user.query(\"group == 'A'\").user_id.count()\n",
    "A_paying"
   ]
  },
  {
   "cell_type": "code",
   "execution_count": 206,
   "metadata": {},
   "outputs": [
    {
     "data": {
      "text/plain": [
       "1538"
      ]
     },
     "execution_count": 206,
     "metadata": {},
     "output_type": "execute_result"
    }
   ],
   "source": [
    "# Кол-во всех пользователей в контрольной группе\n",
    "A_full = df_full.query(\"group == 'A'\").user_id.count()\n",
    "A_full"
   ]
  },
  {
   "cell_type": "code",
   "execution_count": 207,
   "metadata": {},
   "outputs": [
    {
     "data": {
      "text/plain": [
       "314"
      ]
     },
     "execution_count": 207,
     "metadata": {},
     "output_type": "execute_result"
    }
   ],
   "source": [
    "# Кол-во платащих пользователей в тестовой группе\n",
    "B_paying = df_paying_user.query(\"group == 'B'\").user_id.count()\n",
    "B_paying"
   ]
  },
  {
   "cell_type": "code",
   "execution_count": 208,
   "metadata": {},
   "outputs": [
    {
     "data": {
      "text/plain": [
       "6803"
      ]
     },
     "execution_count": 208,
     "metadata": {},
     "output_type": "execute_result"
    }
   ],
   "source": [
    "# Кол-во всех пользователей в тестовой группе\n",
    "B_full = df_full.query(\"group == 'B'\").user_id.count()\n",
    "B_full"
   ]
  },
  {
   "cell_type": "code",
   "execution_count": 209,
   "metadata": {},
   "outputs": [
    {
     "name": "stdout",
     "output_type": "stream",
     "text": [
      "Конверсия в контрольной группе: 5.07%\n"
     ]
    }
   ],
   "source": [
    "CR_A_all = (A_paying/A_full)*100\n",
    "print('Конверсия в контрольной группе: ', round(CR_A_all, 2), '%', sep='')"
   ]
  },
  {
   "cell_type": "code",
   "execution_count": 210,
   "metadata": {},
   "outputs": [
    {
     "name": "stdout",
     "output_type": "stream",
     "text": [
      "Конверсия в тестовой группе: 4.62%\n"
     ]
    }
   ],
   "source": [
    "CR_B_all = (B_paying/B_full)*100\n",
    "print('Конверсия в тестовой группе: ', round(CR_B_all, 2), '%', sep='')"
   ]
  },
  {
   "cell_type": "markdown",
   "metadata": {},
   "source": [
    "#### Для России"
   ]
  },
  {
   "cell_type": "code",
   "execution_count": 211,
   "metadata": {},
   "outputs": [
    {
     "name": "stdout",
     "output_type": "stream",
     "text": [
      "Конверсия в контрольной группе в России: 4.7%\n"
     ]
    }
   ],
   "source": [
    "CR_A_Russia = (df_paying_user.query(\"country == 'Russia' and group == 'A'\").user_id.count()/df_full.query(\"country == 'Russia' and group == 'A'\").user_id.count())*100\n",
    "print('Конверсия в контрольной группе в России: ', round(CR_A_Russia, 2), '%', sep='')"
   ]
  },
  {
   "cell_type": "code",
   "execution_count": 212,
   "metadata": {},
   "outputs": [
    {
     "name": "stdout",
     "output_type": "stream",
     "text": [
      "Конверсия в тестовой группе в России: 4.39%\n"
     ]
    }
   ],
   "source": [
    "CR_B_Russia = (df_paying_user.query(\"country == 'Russia' and group == 'B'\").user_id.count()/df_full.query(\"country == 'Russia' and group == 'B'\").user_id.count())*100\n",
    "print('Конверсия в тестовой группе в России: ', round(CR_B_Russia, 2), '%', sep='')"
   ]
  },
  {
   "cell_type": "markdown",
   "metadata": {},
   "source": [
    "#### Для Швеции"
   ]
  },
  {
   "cell_type": "code",
   "execution_count": 213,
   "metadata": {},
   "outputs": [
    {
     "name": "stdout",
     "output_type": "stream",
     "text": [
      "Конверсия в контрольной группе в Швеции: 5.62%\n"
     ]
    }
   ],
   "source": [
    "CR_A_Sweden = (df_paying_user.query(\"country == 'Sweden' and group == 'A'\").user_id.count()/df_full.query(\"country == 'Sweden' and group == 'A'\").user_id.count())*100\n",
    "print('Конверсия в контрольной группе в Швеции: ', round(CR_A_Sweden, 2), '%', sep='')"
   ]
  },
  {
   "cell_type": "code",
   "execution_count": 214,
   "metadata": {},
   "outputs": [
    {
     "name": "stdout",
     "output_type": "stream",
     "text": [
      "Конверсия в тестовой группе в Швеции: 5.06%\n"
     ]
    }
   ],
   "source": [
    "CR_B_Sweden = (df_paying_user.query(\"country == 'Sweden' and group == 'B'\").user_id.count()/df_full.query(\"country == 'Sweden' and group == 'B'\").user_id.count())*100\n",
    "print('Конверсия в тестовой группе в Швеции: ', round(CR_B_Sweden, 2), '%', sep='')"
   ]
  },
  {
   "cell_type": "markdown",
   "metadata": {},
   "source": [
    "Конверсия, в совокупности по всем странам и с разделением, для тестовой группы уменьшилась. Данную метрику (как основную) не рекомендуется использовать для окончательного принятия решения о эффективности a/b тестирования, т.к. при анализе данных выяснилось много вопросов о работе приложения на разных платформах.\n",
    "Оценим другие метрики."
   ]
  },
  {
   "cell_type": "markdown",
   "metadata": {},
   "source": [
    "### ARPU, Average Revenue Per User) = (Общий доход)/(Кол-во пользователей)"
   ]
  },
  {
   "cell_type": "markdown",
   "metadata": {},
   "source": [
    "#### Для всех стран в совокупности"
   ]
  },
  {
   "cell_type": "code",
   "execution_count": 215,
   "metadata": {},
   "outputs": [
    {
     "name": "stdout",
     "output_type": "stream",
     "text": [
      "Средний доход от пользователя в контрольной группе: 47.85$\n"
     ]
    }
   ],
   "source": [
    "ARPU_A_all = (df_full.query(\"group == 'A'\").revenue.sum())/A_full\n",
    "print('Средний доход от пользователя в контрольной группе: ', round(ARPU_A_all, 2), '$', sep='')"
   ]
  },
  {
   "cell_type": "code",
   "execution_count": 216,
   "metadata": {},
   "outputs": [
    {
     "name": "stdout",
     "output_type": "stream",
     "text": [
      "Средний доход от пользователя в тестовой группе: 58.52$\n"
     ]
    }
   ],
   "source": [
    "ARPU_B_all = (df_full.query(\"group == 'B'\").revenue.sum())/B_full\n",
    "print('Средний доход от пользователя в тестовой группе: ', round(ARPU_B_all, 2), '$', sep='')"
   ]
  },
  {
   "cell_type": "markdown",
   "metadata": {},
   "source": [
    "#### Для России"
   ]
  },
  {
   "cell_type": "code",
   "execution_count": 217,
   "metadata": {},
   "outputs": [
    {
     "name": "stdout",
     "output_type": "stream",
     "text": [
      "Средний доход от пользователя в контрольной группе в России: 38.7$\n"
     ]
    }
   ],
   "source": [
    "ARPU_A_Russia = (df_full.query(\"country == 'Russia' and group == 'A'\").revenue.sum())/df_full.query(\"country == 'Russia' and group == 'A'\").user_id.count()\n",
    "print('Средний доход от пользователя в контрольной группе в России: ', round(ARPU_A_Russia, 2), '$', sep='')"
   ]
  },
  {
   "cell_type": "code",
   "execution_count": 218,
   "metadata": {},
   "outputs": [
    {
     "name": "stdout",
     "output_type": "stream",
     "text": [
      "Средний доход от пользователя в тестовой группе в России: 53.3$\n"
     ]
    }
   ],
   "source": [
    "ARPU_B_Russia = (df_full.query(\"country == 'Russia' and group == 'B'\").revenue.sum())/df_full.query(\"country == 'Russia' and group == 'B'\").user_id.count()\n",
    "print('Средний доход от пользователя в тестовой группе в России: ', round(ARPU_B_Russia, 2), '$', sep='')"
   ]
  },
  {
   "cell_type": "markdown",
   "metadata": {},
   "source": [
    "#### Для Швеции"
   ]
  },
  {
   "cell_type": "code",
   "execution_count": 221,
   "metadata": {},
   "outputs": [
    {
     "name": "stdout",
     "output_type": "stream",
     "text": [
      "Средний доход от пользователя в контрольной группе в Швеции: 61.3$\n"
     ]
    }
   ],
   "source": [
    "ARPU_A_Sweden = (df_full.query(\"country == 'Sweden' and group == 'A'\").revenue.sum())/df_full.query(\"country == 'Sweden' and group == 'A'\").user_id.count()\n",
    "print('Средний доход от пользователя в контрольной группе в Швеции: ', round(ARPU_A_Sweden, 2), '$', sep='')"
   ]
  },
  {
   "cell_type": "code",
   "execution_count": 222,
   "metadata": {},
   "outputs": [
    {
     "name": "stdout",
     "output_type": "stream",
     "text": [
      "Средний доход от пользователя в тестовой группе в Швеции: 68.66$\n"
     ]
    }
   ],
   "source": [
    "ARPU_B_Sweden = (df_full.query(\"country == 'Sweden' and group == 'B'\").revenue.sum())/df_full.query(\"country == 'Sweden' and group == 'B'\").user_id.count()\n",
    "print('Средний доход от пользователя в тестовой группе в Швеции: ', round(ARPU_B_Sweden, 2), '$', sep='')"
   ]
  },
  {
   "cell_type": "markdown",
   "metadata": {},
   "source": [
    "#### Во всех тестовых группах показатель ARPU явно больше, чем в контрольной. Особено выражено для России."
   ]
  },
  {
   "cell_type": "markdown",
   "metadata": {},
   "source": [
    "### ARPPU, Average Revenue Per Paying User) = (Общий доход)/(Кол-во платящих пользователей)"
   ]
  },
  {
   "cell_type": "markdown",
   "metadata": {},
   "source": [
    "#### Для всех стран в совокупности"
   ]
  },
  {
   "cell_type": "code",
   "execution_count": 223,
   "metadata": {},
   "outputs": [
    {
     "name": "stdout",
     "output_type": "stream",
     "text": [
      "Средний доход от платящего пользователя в контрольной группе: 943.56$\n"
     ]
    }
   ],
   "source": [
    "ARPPU_A_all = (df_full.query(\"group == 'A'\").revenue.sum())/A_paying\n",
    "print('Средний доход от платящего пользователя в контрольной группе: ', round(ARPPU_A_all, 2), '$', sep='')"
   ]
  },
  {
   "cell_type": "code",
   "execution_count": 224,
   "metadata": {},
   "outputs": [
    {
     "name": "stdout",
     "output_type": "stream",
     "text": [
      "Средний доход от платящего пользователя в тестовой группе: 1267.88$\n"
     ]
    }
   ],
   "source": [
    "ARPPU_B_all = (df_full.query(\"group == 'B'\").revenue.sum())/B_paying\n",
    "print('Средний доход от платящего пользователя в тестовой группе: ', round(ARPPU_B_all, 2), '$', sep='')"
   ]
  },
  {
   "cell_type": "markdown",
   "metadata": {},
   "source": [
    "#### Для России"
   ]
  },
  {
   "cell_type": "code",
   "execution_count": 225,
   "metadata": {},
   "outputs": [
    {
     "name": "stdout",
     "output_type": "stream",
     "text": [
      "Средний доход от платящего пользователя в контрольной группе в России: 823.42$\n"
     ]
    }
   ],
   "source": [
    "ARPPU_A_Russia = (df_full.query(\"country == 'Russia' and group == 'A'\").revenue.sum())/df_paying_user.query(\"country == 'Russia' and group == 'A'\").user_id.count()\n",
    "print('Средний доход от платящего пользователя в контрольной группе в России: ', round(ARPPU_A_Russia, 2), '$', sep='')"
   ]
  },
  {
   "cell_type": "code",
   "execution_count": 226,
   "metadata": {},
   "outputs": [
    {
     "name": "stdout",
     "output_type": "stream",
     "text": [
      "Средний доход от платящего пользователя в тестовой группе в России: 1267.88$\n"
     ]
    }
   ],
   "source": [
    "ARPPU_B_Russia = (df_full.query(\"country == 'Russia' and group == 'B'\").revenue.sum())/df_paying_user.query(\"country == 'Russia' and group == 'B'\").user_id.count()\n",
    "print('Средний доход от платящего пользователя в тестовой группе в России: ', round(ARPPU_B_all, 2), '$', sep='')"
   ]
  },
  {
   "cell_type": "markdown",
   "metadata": {},
   "source": [
    "#### Для Швеции"
   ]
  },
  {
   "cell_type": "code",
   "execution_count": 227,
   "metadata": {},
   "outputs": [
    {
     "name": "stdout",
     "output_type": "stream",
     "text": [
      "Средний доход от платящего пользователя в контрольной группе в Швеции: 1091.17$\n"
     ]
    }
   ],
   "source": [
    "ARPPU_A_Sweden = (df_full.query(\"country == 'Sweden' and group == 'A'\").revenue.sum())/df_paying_user.query(\"country == 'Sweden' and group == 'A'\").user_id.count()\n",
    "print('Средний доход от платящего пользователя в контрольной группе в Швеции: ', round(ARPPU_A_Sweden, 2), '$', sep='')"
   ]
  },
  {
   "cell_type": "code",
   "execution_count": 228,
   "metadata": {},
   "outputs": [
    {
     "name": "stdout",
     "output_type": "stream",
     "text": [
      "Средний доход от платящего пользователя в тестовой группе в Швеции: 1356.16$\n"
     ]
    }
   ],
   "source": [
    "ARPPU_B_Sweden = (df_full.query(\"country == 'Sweden' and group == 'B'\").revenue.sum())/df_paying_user.query(\"country == 'Sweden' and group == 'B'\").user_id.count()\n",
    "print('Средний доход от платящего пользователя в тестовой группе в Швеции: ', round(ARPPU_B_Sweden, 2), '$', sep='')"
   ]
  },
  {
   "cell_type": "markdown",
   "metadata": {},
   "source": [
    "#### Во всех тестовых группах показатель ARPPU явно больше, чем в контрольной. "
   ]
  },
  {
   "cell_type": "markdown",
   "metadata": {},
   "source": [
    "## Оценка статистической значимости результатов A/B тестирования"
   ]
  },
  {
   "cell_type": "markdown",
   "metadata": {},
   "source": [
    "#### Для оценки стат.значимости результатов воспользуемся бутстрапом(проверяем гипотезу о равенстве медиант, т.к. имеются Возможные выбросы). \n",
    "#### Критерий Манна-Уитни, как и любой статистический оценщик, не очень приветлив к дисбалансу. Это сказывается в первую очередь на мощности критерия – чем сильнее дисбаланс, тем реже критерий будет обнаруживать реальную разницу (эффект)."
   ]
  },
  {
   "cell_type": "markdown",
   "metadata": {},
   "source": [
    "### BOOTSTRAP\n",
    "H0 - стат. различия отсутствуют"
   ]
  },
  {
   "cell_type": "code",
   "execution_count": 111,
   "metadata": {},
   "outputs": [],
   "source": [
    "# Объявим функцию, которая позволит проверять гипотезы с помощью бутстрапа\n",
    "def get_bootstrap(\n",
    "    data_column_1,  # числовые значения первой выборки\n",
    "    data_column_2,  # числовые значения второй выборки\n",
    "    boot_it=1000,  # количество бутстрэп-подвыборок\n",
    "    statistic=np.median,  # интересующая нас статистика\n",
    "    bootstrap_conf_level=0.95  # уровень значимости\n",
    "):\n",
    "    boot_len = max([len(data_column_1), len(data_column_2)])\n",
    "    boot_data = []\n",
    "    for i in tqdm(range(boot_it)):  # извлекаем подвыборки\n",
    "        samples_1 = data_column_1.sample(\n",
    "            boot_len, \n",
    "            replace=True  # параметр возвращения\n",
    "        ).values\n",
    "        \n",
    "        samples_2 = data_column_2.sample(\n",
    "            boot_len, \n",
    "            replace=True\n",
    "        ).values\n",
    "        \n",
    "        boot_data.append(statistic(samples_1 - samples_2))  # median() - применяем статистику\n",
    "        \n",
    "    pd_boot_data = pd.DataFrame(boot_data)\n",
    "        \n",
    "    left_quant = (1 - bootstrap_conf_level) / 2\n",
    "    right_quant = 1 - (1 - bootstrap_conf_level) / 2\n",
    "    ci = pd_boot_data.quantile([left_quant, right_quant])\n",
    "        \n",
    "    p_1 = norm.cdf(\n",
    "        x=0, \n",
    "        loc=np.mean(boot_data), \n",
    "        scale=np.std(boot_data)\n",
    "    )\n",
    "    p_2 = norm.cdf(\n",
    "        x=0, \n",
    "        loc=-np.mean(boot_data), \n",
    "        scale=np.std(boot_data)\n",
    "    )\n",
    "    p_value = min(p_1, p_2) * 2\n",
    "        \n",
    "    # Визуализация\n",
    "    plt.hist(pd_boot_data[0], bins=50)\n",
    "    \n",
    "    plt.style.use('ggplot')\n",
    "    plt.vlines(ci, ymin=0, ymax=50, linestyle='--')\n",
    "    plt.xlabel('boot_data')\n",
    "    plt.ylabel('frequency')\n",
    "    plt.title(\"Histogram of boot_data\")\n",
    "    plt.show()\n",
    "       \n",
    "    return {\"boot_data\": boot_data, \n",
    "            \"ci\": ci, \n",
    "            \"p_value\": p_value}"
   ]
  },
  {
   "cell_type": "code",
   "execution_count": 112,
   "metadata": {},
   "outputs": [
    {
     "data": {
      "application/vnd.jupyter.widget-view+json": {
       "model_id": "b382f84c7ff145128d3566d95291814b",
       "version_major": 2,
       "version_minor": 0
      },
      "text/plain": [
       "HBox(children=(FloatProgress(value=0.0, max=2000.0), HTML(value='')))"
      ]
     },
     "metadata": {},
     "output_type": "display_data"
    },
    {
     "name": "stdout",
     "output_type": "stream",
     "text": [
      "\n"
     ]
    },
    {
     "data": {
      "image/png": "[encoded data removed]",
      "text/plain": [
       "<Figure size 432x288 with 1 Axes>"
      ]
     },
     "metadata": {},
     "output_type": "display_data"
    }
   ],
   "source": [
    "bootstrap_median = get_bootstrap(df_paying_user.query(\"group == 'A'\").revenue, \n",
    "                                 df_paying_user.query(\"group == 'B'\").revenue, \n",
    "                                 boot_it=2000) "
   ]
  },
  {
   "cell_type": "code",
   "execution_count": 183,
   "metadata": {},
   "outputs": [
    {
     "data": {
      "text/plain": [
       "1.3935326822911155e-05"
      ]
     },
     "execution_count": 183,
     "metadata": {},
     "output_type": "execute_result"
    }
   ],
   "source": [
    "# Вывод уровня значимости для метода Bootstrap по медианным значения\n",
    "bootstrap_median[\"p_value\"]"
   ]
  },
  {
   "cell_type": "code",
   "execution_count": 184,
   "metadata": {},
   "outputs": [
    {
     "data": {
      "text/html": [
       "<div>\n",
       "<style scoped>\n",
       "    .dataframe tbody tr th:only-of-type {\n",
       "        vertical-align: middle;\n",
       "    }\n",
       "\n",
       "    .dataframe tbody tr th {\n",
       "        vertical-align: top;\n",
       "    }\n",
       "\n",
       "    .dataframe thead th {\n",
       "        text-align: right;\n",
       "    }\n",
       "</style>\n",
       "<table border=\"1\" class=\"dataframe\">\n",
       "  <thead>\n",
       "    <tr style=\"text-align: right;\">\n",
       "      <th></th>\n",
       "      <th>0</th>\n",
       "    </tr>\n",
       "  </thead>\n",
       "  <tbody>\n",
       "    <tr>\n",
       "      <th>0.025</th>\n",
       "      <td>-566.0125</td>\n",
       "    </tr>\n",
       "    <tr>\n",
       "      <th>0.975</th>\n",
       "      <td>-204.9875</td>\n",
       "    </tr>\n",
       "  </tbody>\n",
       "</table>\n",
       "</div>"
      ],
      "text/plain": [
       "              0\n",
       "0.025 -566.0125\n",
       "0.975 -204.9875"
      ]
     },
     "execution_count": 184,
     "metadata": {},
     "output_type": "execute_result"
    }
   ],
   "source": [
    "# Вывод доверительного интервала для метода Bootstrap по медианным значения\n",
    "bootstrap_median[\"ci\"]"
   ]
  },
  {
   "cell_type": "markdown",
   "metadata": {},
   "source": [
    "#### p-value значительно ниже 0,05 и в доверительный интервал не входит 0, поэтому отклоняем нулевую гипотезу и принимаем альтернативную, соответственно различия стат. значимые."
   ]
  },
  {
   "cell_type": "markdown",
   "metadata": {},
   "source": [
    "Попробуем запустить bootstrap для сбалансированных выборок(применим сэмплирование в тестовой группе, чтобы уровнять выборки)"
   ]
  },
  {
   "cell_type": "code",
   "execution_count": 204,
   "metadata": {},
   "outputs": [
    {
     "data": {
      "text/plain": [
       "78"
      ]
     },
     "execution_count": 204,
     "metadata": {},
     "output_type": "execute_result"
    }
   ],
   "source": [
    "# Проверим число пользователей, совершивших целевое дейтсвие, в контрольной группе\n",
    "df_paying_user.query(\"group == 'A'\").user_id.count()"
   ]
  },
  {
   "cell_type": "code",
   "execution_count": 214,
   "metadata": {},
   "outputs": [
    {
     "data": {
      "application/vnd.jupyter.widget-view+json": {
       "model_id": "38813355188045748f79f1fe7dbb4952",
       "version_major": 2,
       "version_minor": 0
      },
      "text/plain": [
       "HBox(children=(FloatProgress(value=0.0, max=2000.0), HTML(value='')))"
      ]
     },
     "metadata": {},
     "output_type": "display_data"
    },
    {
     "name": "stdout",
     "output_type": "stream",
     "text": [
      "\n"
     ]
    },
    {
     "data": {
      "image/png": "[encoded data removed]",
      "text/plain": [
       "<Figure size 432x288 with 1 Axes>"
      ]
     },
     "metadata": {},
     "output_type": "display_data"
    }
   ],
   "source": [
    "bootstrap_median_2 = get_bootstrap(df_paying_user.query(\"group == 'A'\").revenue, \n",
    "                                 df_paying_user.query(\"group == 'B'\").revenue.sample(78, replace = False, random_state=17), \n",
    "                                 boot_it=2000) "
   ]
  },
  {
   "cell_type": "code",
   "execution_count": 215,
   "metadata": {},
   "outputs": [
    {
     "data": {
      "text/plain": [
       "0.028739795503631982"
      ]
     },
     "execution_count": 215,
     "metadata": {},
     "output_type": "execute_result"
    }
   ],
   "source": [
    "# Вывод уровня значимости для метода Bootstrap по медианным значения\n",
    "bootstrap_median_2[\"p_value\"]"
   ]
  },
  {
   "cell_type": "code",
   "execution_count": 216,
   "metadata": {},
   "outputs": [
    {
     "data": {
      "text/html": [
       "<div>\n",
       "<style scoped>\n",
       "    .dataframe tbody tr th:only-of-type {\n",
       "        vertical-align: middle;\n",
       "    }\n",
       "\n",
       "    .dataframe tbody tr th {\n",
       "        vertical-align: top;\n",
       "    }\n",
       "\n",
       "    .dataframe thead th {\n",
       "        text-align: right;\n",
       "    }\n",
       "</style>\n",
       "<table border=\"1\" class=\"dataframe\">\n",
       "  <thead>\n",
       "    <tr style=\"text-align: right;\">\n",
       "      <th></th>\n",
       "      <th>0</th>\n",
       "    </tr>\n",
       "  </thead>\n",
       "  <tbody>\n",
       "    <tr>\n",
       "      <th>0.025</th>\n",
       "      <td>-879.5125</td>\n",
       "    </tr>\n",
       "    <tr>\n",
       "      <th>0.975</th>\n",
       "      <td>-34.3125</td>\n",
       "    </tr>\n",
       "  </tbody>\n",
       "</table>\n",
       "</div>"
      ],
      "text/plain": [
       "              0\n",
       "0.025 -879.5125\n",
       "0.975  -34.3125"
      ]
     },
     "execution_count": 216,
     "metadata": {},
     "output_type": "execute_result"
    }
   ],
   "source": [
    "# Вывод доверительного интервала для метода Bootstrap по медианным значения\n",
    "bootstrap_median_2[\"ci\"]"
   ]
  },
  {
   "cell_type": "markdown",
   "metadata": {},
   "source": [
    "#### Уменьшение размера выборки в тестовой группе показало такие же результаты как и с несбалансированными (исходными) выборками. "
   ]
  },
  {
   "cell_type": "markdown",
   "metadata": {},
   "source": [
    "#### Bootstrap для пользователей из России"
   ]
  },
  {
   "cell_type": "code",
   "execution_count": 218,
   "metadata": {},
   "outputs": [
    {
     "data": {
      "application/vnd.jupyter.widget-view+json": {
       "model_id": "2c1e307e849042c9a5910584d52ddc3a",
       "version_major": 2,
       "version_minor": 0
      },
      "text/plain": [
       "HBox(children=(FloatProgress(value=0.0, max=2000.0), HTML(value='')))"
      ]
     },
     "metadata": {},
     "output_type": "display_data"
    },
    {
     "name": "stdout",
     "output_type": "stream",
     "text": [
      "\n"
     ]
    },
    {
     "data": {
      "image/png": "[encoded data removed]",
      "text/plain": [
       "<Figure size 432x288 with 1 Axes>"
      ]
     },
     "metadata": {},
     "output_type": "display_data"
    }
   ],
   "source": [
    "bootstrap_median_Russia = get_bootstrap(df_paying_user.query(\"country == 'Russia' and group == 'A'\").revenue, \n",
    "                                 df_paying_user.query(\"country == 'Russia' and group == 'B'\").revenue, \n",
    "                                 boot_it=2000) "
   ]
  },
  {
   "cell_type": "code",
   "execution_count": 219,
   "metadata": {},
   "outputs": [
    {
     "data": {
      "text/plain": [
       "0.0008096911352104257"
      ]
     },
     "execution_count": 219,
     "metadata": {},
     "output_type": "execute_result"
    }
   ],
   "source": [
    "# Вывод уровня значимости для метода Bootstrap по медианным значения\n",
    "bootstrap_median_Russia[\"p_value\"]"
   ]
  },
  {
   "cell_type": "code",
   "execution_count": 220,
   "metadata": {},
   "outputs": [
    {
     "data": {
      "text/html": [
       "<div>\n",
       "<style scoped>\n",
       "    .dataframe tbody tr th:only-of-type {\n",
       "        vertical-align: middle;\n",
       "    }\n",
       "\n",
       "    .dataframe tbody tr th {\n",
       "        vertical-align: top;\n",
       "    }\n",
       "\n",
       "    .dataframe thead th {\n",
       "        text-align: right;\n",
       "    }\n",
       "</style>\n",
       "<table border=\"1\" class=\"dataframe\">\n",
       "  <thead>\n",
       "    <tr style=\"text-align: right;\">\n",
       "      <th></th>\n",
       "      <th>0</th>\n",
       "    </tr>\n",
       "  </thead>\n",
       "  <tbody>\n",
       "    <tr>\n",
       "      <th>0.025</th>\n",
       "      <td>-700.0</td>\n",
       "    </tr>\n",
       "    <tr>\n",
       "      <th>0.975</th>\n",
       "      <td>-197.0</td>\n",
       "    </tr>\n",
       "  </tbody>\n",
       "</table>\n",
       "</div>"
      ],
      "text/plain": [
       "           0\n",
       "0.025 -700.0\n",
       "0.975 -197.0"
      ]
     },
     "execution_count": 220,
     "metadata": {},
     "output_type": "execute_result"
    }
   ],
   "source": [
    "# Вывод доверительного интервала для метода Bootstrap по медианным значения\n",
    "bootstrap_median_Russia[\"ci\"]"
   ]
  },
  {
   "cell_type": "markdown",
   "metadata": {},
   "source": [
    "#### Bootstrap для пользователей из Швеции"
   ]
  },
  {
   "cell_type": "code",
   "execution_count": 119,
   "metadata": {},
   "outputs": [
    {
     "data": {
      "application/vnd.jupyter.widget-view+json": {
       "model_id": "8272cbd9cf514317bf0b71729e0aa166",
       "version_major": 2,
       "version_minor": 0
      },
      "text/plain": [
       "HBox(children=(FloatProgress(value=0.0, max=2000.0), HTML(value='')))"
      ]
     },
     "metadata": {},
     "output_type": "display_data"
    },
    {
     "name": "stdout",
     "output_type": "stream",
     "text": [
      "\n"
     ]
    },
    {
     "data": {
      "image/png": "[encoded data removed]",
      "text/plain": [
       "<Figure size 432x288 with 1 Axes>"
      ]
     },
     "metadata": {},
     "output_type": "display_data"
    }
   ],
   "source": [
    "bootstrap_median_Sweden = get_bootstrap(df_paying_user.query(\"country == 'Sweden' and group == 'A'\").revenue, \n",
    "                                 df_paying_user.query(\"country == 'Sweden' and group == 'B'\").revenue, \n",
    "                                 boot_it=2000) "
   ]
  },
  {
   "cell_type": "code",
   "execution_count": 120,
   "metadata": {},
   "outputs": [
    {
     "data": {
      "text/plain": [
       "0.012397322568698785"
      ]
     },
     "execution_count": 120,
     "metadata": {},
     "output_type": "execute_result"
    }
   ],
   "source": [
    "bootstrap_median_Sweden[\"p_value\"]"
   ]
  },
  {
   "cell_type": "code",
   "execution_count": 121,
   "metadata": {},
   "outputs": [
    {
     "data": {
      "text/html": [
       "<div>\n",
       "<style scoped>\n",
       "    .dataframe tbody tr th:only-of-type {\n",
       "        vertical-align: middle;\n",
       "    }\n",
       "\n",
       "    .dataframe tbody tr th {\n",
       "        vertical-align: top;\n",
       "    }\n",
       "\n",
       "    .dataframe thead th {\n",
       "        text-align: right;\n",
       "    }\n",
       "</style>\n",
       "<table border=\"1\" class=\"dataframe\">\n",
       "  <thead>\n",
       "    <tr style=\"text-align: right;\">\n",
       "      <th></th>\n",
       "      <th>0</th>\n",
       "    </tr>\n",
       "  </thead>\n",
       "  <tbody>\n",
       "    <tr>\n",
       "      <th>0.025</th>\n",
       "      <td>-700.0</td>\n",
       "    </tr>\n",
       "    <tr>\n",
       "      <th>0.975</th>\n",
       "      <td>-3.0</td>\n",
       "    </tr>\n",
       "  </tbody>\n",
       "</table>\n",
       "</div>"
      ],
      "text/plain": [
       "           0\n",
       "0.025 -700.0\n",
       "0.975   -3.0"
      ]
     },
     "execution_count": 121,
     "metadata": {},
     "output_type": "execute_result"
    }
   ],
   "source": [
    "bootstrap_median_Sweden[\"ci\"]"
   ]
  },
  {
   "cell_type": "markdown",
   "metadata": {},
   "source": [
    "#### О чем нам говорят результаты bootstrap?\n",
    "Медианное значение дохода с новым дизайном в тестовой группе выше, чем в контрольной, p-value<0.05.\n",
    "Мы достаточно можем быть уверены в том, что наблюдаемый эффект от изменения приложения, а не просто нам повезло."
   ]
  },
  {
   "cell_type": "markdown",
   "metadata": {},
   "source": [
    "### Тест Манна-Уитни о равенстве распределений.\n",
    "Н0 - распределение, лежащее в основе выборки тестовой , совпадает с распределением, лежащим в основе выборки контрольной"
   ]
  },
  {
   "cell_type": "code",
   "execution_count": 230,
   "metadata": {},
   "outputs": [
    {
     "data": {
      "text/plain": [
       "MannwhitneyuResult(statistic=8961.0, pvalue=0.00023939080114586078)"
      ]
     },
     "execution_count": 230,
     "metadata": {},
     "output_type": "execute_result"
    }
   ],
   "source": [
    "# Тест с несбалансированными выборками\n",
    "mannwhitneyu(df_paying_user.query(\"group == 'A'\").revenue, \n",
    "                   df_paying_user.query(\"group == 'B'\").revenue, use_continuity=True)\n"
   ]
  },
  {
   "cell_type": "code",
   "execution_count": 231,
   "metadata": {},
   "outputs": [
    {
     "data": {
      "text/plain": [
       "MannwhitneyuResult(statistic=2183.0, pvalue=0.002314386566950298)"
      ]
     },
     "execution_count": 231,
     "metadata": {},
     "output_type": "execute_result"
    }
   ],
   "source": [
    "# Тест с балансированными выборками\n",
    "mannwhitneyu(df_paying_user.query(\"group == 'A'\").revenue, \n",
    "                   df_paying_user.query(\"group == 'B'\").revenue.sample(78, replace = False, random_state=17), use_continuity=True)"
   ]
  },
  {
   "cell_type": "code",
   "execution_count": 234,
   "metadata": {},
   "outputs": [
    {
     "data": {
      "text/plain": [
       "MannwhitneyuResult(statistic=2925.5, pvalue=0.0014699816493472517)"
      ]
     },
     "execution_count": 234,
     "metadata": {},
     "output_type": "execute_result"
    }
   ],
   "source": [
    "# Только для России\n",
    "mannwhitneyu(df_paying_user.query(\"country == 'Russia' and group == 'A'\").revenue, \n",
    "                   df_paying_user.query(\"country == 'Russia' and group == 'B'\").revenue, use_continuity=True)\n"
   ]
  },
  {
   "cell_type": "code",
   "execution_count": 235,
   "metadata": {},
   "outputs": [
    {
     "data": {
      "text/plain": [
       "MannwhitneyuResult(statistic=1577.5, pvalue=0.03958280081671394)"
      ]
     },
     "execution_count": 235,
     "metadata": {},
     "output_type": "execute_result"
    }
   ],
   "source": [
    "# Только для Швеции\n",
    "mannwhitneyu(df_paying_user.query(\"country == 'Sweden' and group == 'A'\").revenue, \n",
    "                   df_paying_user.query(\"country == 'Sweden' and group == 'B'\").revenue, use_continuity=True)\n"
   ]
  },
  {
   "cell_type": "markdown",
   "metadata": {},
   "source": [
    "#### О чем нам говорят результаты теста Манна-Уитни?\n",
    "p-value<0.05 для всех вариантов. Нулевую гипотезу отклоняем, принимаем алтернативную: различия есть.\n",
    "Мы достаточно можем быть уверены в том, что наблюдаемый эффект от изменения приложения, а не просто нам повезло."
   ]
  },
  {
   "cell_type": "markdown",
   "metadata": {},
   "source": [
    "### Рассчитаем T-критерий для средних значений двух независимых выборок.\n",
    "Н0 : средние значения выборок равны"
   ]
  },
  {
   "cell_type": "markdown",
   "metadata": {},
   "source": [
    "#### Общая"
   ]
  },
  {
   "cell_type": "code",
   "execution_count": 37,
   "metadata": {},
   "outputs": [],
   "source": [
    "a = df_paying_user.query(\"group == 'A'\").revenue\n",
    "b = df_paying_user.query(\"group == 'B'\").revenue"
   ]
  },
  {
   "cell_type": "code",
   "execution_count": 44,
   "metadata": {},
   "outputs": [
    {
     "data": {
      "text/plain": [
       "Ttest_indResult(statistic=-3.134033935298925, pvalue=0.0018546337642145053)"
      ]
     },
     "execution_count": 44,
     "metadata": {},
     "output_type": "execute_result"
    }
   ],
   "source": [
    "# Без разделения по странам\n",
    "stats.ttest_ind(a, b)"
   ]
  },
  {
   "cell_type": "markdown",
   "metadata": {},
   "source": [
    "#### Для России. Т.к. дисперсии выборок неравны для России, то используем t-критерий Уэлча."
   ]
  },
  {
   "cell_type": "code",
   "execution_count": 46,
   "metadata": {},
   "outputs": [],
   "source": [
    "a_Russia = df_paying_user.query(\"country == 'Russia' and group == 'A'\").revenue\n",
    "b_Russia = df_paying_user.query(\"country == 'Russia' and group == 'B'\").revenue"
   ]
  },
  {
   "cell_type": "code",
   "execution_count": 47,
   "metadata": {},
   "outputs": [
    {
     "data": {
      "text/plain": [
       "Ttest_indResult(statistic=-2.9617155474816657, pvalue=0.004360162869857023)"
      ]
     },
     "execution_count": 47,
     "metadata": {},
     "output_type": "execute_result"
    }
   ],
   "source": [
    "stats.ttest_ind(a_Russia, b_Russia, equal_var = False)"
   ]
  },
  {
   "cell_type": "markdown",
   "metadata": {},
   "source": [
    "#### Для Швеции"
   ]
  },
  {
   "cell_type": "code",
   "execution_count": 48,
   "metadata": {},
   "outputs": [],
   "source": [
    "a_Sweden = df_paying_user.query(\"country == 'Sweden' and group == 'A'\").revenue\n",
    "b_Sweden = df_paying_user.query(\"country == 'Sweden' and group == 'B'\").revenue"
   ]
  },
  {
   "cell_type": "code",
   "execution_count": 49,
   "metadata": {},
   "outputs": [
    {
     "data": {
      "text/plain": [
       "Ttest_indResult(statistic=-1.5696225706704943, pvalue=0.11861002409823568)"
      ]
     },
     "execution_count": 49,
     "metadata": {},
     "output_type": "execute_result"
    }
   ],
   "source": [
    "stats.ttest_ind(a_Sweden, b_Sweden)"
   ]
  },
  {
   "cell_type": "markdown",
   "metadata": {},
   "source": [
    "Для России мы не можем отклонить нулевую гипотезу и считаем результат стат. значимым. А в Швеции результат не стат. значим."
   ]
  },
  {
   "cell_type": "markdown",
   "metadata": {},
   "source": [
    "# Выводы: \n",
    "Из 74576 уникальных пользователей, участвующих в тестировании (из них в тестовой группе - 59883, контрольной - 14693), кол-во пользователей, посетивших приложение составило 8341, а пользователей совершивших целевое действие (в нашем случае оплата моделей шаблонов) 541.\n",
    "\n",
    "При соединении датафреймов, заметила, что данные о некоторых пользователях отсутствуют. Они заплатили, но информации о них нет.\n",
    "Рассмотрим ниже."
   ]
  },
  {
   "cell_type": "code",
   "execution_count": 142,
   "metadata": {},
   "outputs": [],
   "source": [
    "df_no_information = df.merge(purchases, on=\"user_id\", how=\"right\")"
   ]
  },
  {
   "cell_type": "code",
   "execution_count": 144,
   "metadata": {},
   "outputs": [
    {
     "data": {
      "text/plain": [
       "user_id       0\n",
       "group       149\n",
       "country     149\n",
       "platform    149\n",
       "sex         149\n",
       "revenue       0\n",
       "dtype: int64"
      ]
     },
     "execution_count": 144,
     "metadata": {},
     "output_type": "execute_result"
    }
   ],
   "source": [
    "# Кол-во пользователй, о которых отсутвует информация\n",
    "df_no_information.isna().sum()"
   ]
  },
  {
   "cell_type": "markdown",
   "metadata": {},
   "source": [
    "О 149 пользователях информация отсутсвует. Требует дополнительной проработки этого вопроса, т.к. это может повлиять на сравнении основных метрик между группами тестовой и контрольной."
   ]
  },
  {
   "cell_type": "markdown",
   "metadata": {},
   "source": [
    "Что касаемо пользователей с полной информацией.\n",
    "\n",
    "В контрольной группе число покупателей составило 78 человек, в тестовой 314.Выборки имеют сильный дисбаланс. Так, в тестовой группе людей в 4 раза больше.\n",
    "\n",
    "При анализе данных о разбивке пользователей выяснилось, что соотношение пользователей в группах А и В в Швеции имеет сильно выраженный дисбаланс в сравнении с Россией(в России отношение А/В: 43/197, в Швеции 35/117). Дисбаланс обусловлен неравномерным распределением пользователей по платформам. Пользователей на android в тестовой группе было гораздо больше, чем на ios. Однако, медианное значение дохода на androide в тестовой группе в Швеции значительно ниже, чем в контрольной. Т.е. с выкатыванием новой фичи приложения с колекцией шаблонов на пользователей в Швеции с платформой android доход значительно ниже, чем в контрольной группе на ios. Вопрос в коректной работе новой версии приложения на платформе android в Швеции.\n",
    "\n",
    "Также, в России наблюдался разброс в отношении пола пользователей. Женщин в тестовой группе значительно больше, чем мужчин.\n",
    "\n",
    "Я разделила оценку тестирования по странам. \n",
    "\n",
    "##### Тест Левена на равность дисперсий выборок:\n",
    "В России мы отклоняем нулевую гипотезу(дисперсии выборок не равны, возможно обусловлено выбросами). В Швеции мы не можем отклонить нулевую гипотезу(дисперсии выборок равны).\n",
    "\n",
    "##### Тест Шапиро-Уилка, гистограммы и дистплот указывают на то, что выборки имеют ненормальное распределение.\n",
    "Что касаяемо \"возможных\" выбросов? Это мы оценить не можем, т.к. нет исторических данных. Так, для России тестовой группы это не важно, потому что явных возможных выбросов в значениях нет.\n",
    "\n",
    "\n",
    "Основные метрики.\n",
    "\n",
    "#### CR:\n",
    "Конверсия упала и для России и для Швеции:\n",
    " - В России упала 4,7% до 4,39%\n",
    " - В Швеции с 5,62% до 5,06%\n",
    "\n",
    "#### ARPU:\n",
    "\n",
    " - Для России рост с 38,7  до 53,3 (рост на 37,7%)\n",
    " - Для Швеции рост с 61,3  до 68,6 (рост на 12%)\n",
    "\n",
    "#### ARPPU:\n",
    "\n",
    " - Для России рост с 823,42  до 1267,88 (рост на 54%)\n",
    " - Для Швеции рост с 1091,17  до 1356,16 (рост на 24,3%)\n",
    "\n",
    "\n",
    "#### Bootstrap и тест Манна-Уитни показали, что мы можем быть достаточно уверены в том, что наблюдаемый эффект от изменения приложения, а не просто нам повезло.\n",
    "Однако, t-test показал отсутствие стат.значимой разности средних в тестовой и контрольной группах для Швеции.\n",
    "\n",
    "Есть еще ряд замечаний к данным:\n",
    "1) нет данных о среднем чеке пользователя, кол-ве покупок. Так,имеем данные только об уникальных пользователях и какой-то доход, а из чего он складывается непонятно\n",
    "2) нет никаких временных параметров. Ни даты оплат ни времени. В итоге, неизвестны временные рамки тестирования(1 день или 3 месяца) и оценить являются ли выбросы выбросами.\n",
    "\n",
    "### Резюмируя все вышесказанное, эффект от новой модели оплаты коллекций шаблонов ярко выражен для пользователей из России, что подтвердили стат. тесты и мы может сказать, что результаты стат.значимы. Для Швеции есть много \"но\" и t-test показал отсутсвие стат.значимости в результатах. Поэтому, по результатам A/B тестирования новую модель приложения можно выкатывать только на пользователей из России. Дисперсия выборок для России не одинаковая, однако факт увеличения дохода в тестовой группе достаточно очевиден и t-test (применяя критерий Уэлча) показал, что различия стат.значимы, а не просто нам повезло. Для Швеции необходимо произвести дополнительный анализ работоспособности новой версии приложения на разных платформах. Если выкатывать новую версию на Швецию, то можно получить ложноположительный эффект. \n",
    "ИТОГ: выкатываем новую версию для России."
   ]
  },
  {
   "cell_type": "markdown",
   "metadata": {},
   "source": [
    "# Задание 2"
   ]
  },
  {
   "cell_type": "code",
   "execution_count": 43,
   "metadata": {},
   "outputs": [],
   "source": [
    "# Сохраним датафрейм с объединенными данными в один для удобной работы в tableau\n",
    "df_full.to_csv('testing.csv')"
   ]
  },
  {
   "cell_type": "markdown",
   "metadata": {},
   "source": [
    "#### Ссылка на дашборд\n",
    "https://public.tableau.com/app/profile/olga.demchenko/viz/FinalProjectvar_4byOlgaDemchenko/Dashboard1?publish=yes"
   ]
  },
  {
   "cell_type": "markdown",
   "metadata": {},
   "source": [
    "Заполненный dashbord canvas находится в файле \n",
    "Dashboard_Canvas_Final_Project_var4.pptx"
   ]
  },
  {
   "cell_type": "code",
   "execution_count": null,
   "metadata": {},
   "outputs": [],
   "source": []
  }
 ],
 "metadata": {
  "kernelspec": {
   "display_name": "Python 3",
   "language": "python",
   "name": "python3"
  },
  "language_info": {
   "codemirror_mode": {
    "name": "ipython",
    "version": 3
   },
   "file_extension": ".py",
   "mimetype": "text/x-python",
   "name": "python",
   "nbconvert_exporter": "python",
   "pygments_lexer": "ipython3",
   "version": "3.7.3"
  }
 },
 "nbformat": 4,
 "nbformat_minor": 4
}
